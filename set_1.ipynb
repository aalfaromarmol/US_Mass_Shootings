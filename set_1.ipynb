# Import packages
import pandas as pd
import altair as alt

# Load traffic stops data and create a dataframe called stops
# and check the columns and their types
import pandas as pd

# Assuming you have a CSV file with traffic stops data, change the file path accordingly
file_path = r'"C:\Users\gram\OneDrive\Documents\5122\5122 FINAL\Codeholics - Mass Shootings Database 1982-2023 (1).csv"'

# Load traffic stops data into a Pandas DataFrame
mass_df = pd.read_csv(file_path)

# Display the columns and their data types
print('Columns and their types:')
print(stops_df.dtypes)